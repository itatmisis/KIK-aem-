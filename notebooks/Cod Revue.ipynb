{
 "cells": [
  {
   "cell_type": "code",
   "execution_count": 9,
   "id": "6918f764",
   "metadata": {},
   "outputs": [
    {
     "name": "stdout",
     "output_type": "stream",
     "text": [
      "INFO: Pandarallel will run on 4 workers.\n",
      "INFO: Pandarallel will use standard multiprocessing data transfer (pipe) to transfer data between the main process and workers.\n",
      "\n",
      "WARNING: You are on Windows. If you detect any issue with pandarallel, be sure you checked out the Troubleshooting page:\n",
      "https://nalepae.github.io/pandarallel/troubleshooting/\n"
     ]
    }
   ],
   "source": [
    "import pandas as pd\n",
    "import numpy as np\n",
    "import json\n",
    "\n",
    "from tqdm.notebook import tqdm\n",
    "tqdm.pandas()\n",
    "\n",
    "from pandarallel import pandarallel\n",
    "pandarallel.initialize(progress_bar=True)"
   ]
  },
  {
   "cell_type": "code",
   "execution_count": 2,
   "id": "fcf18e35",
   "metadata": {},
   "outputs": [
    {
     "name": "stderr",
     "output_type": "stream",
     "text": [
      "C:\\Users\\Данил\\AppData\\Local\\Temp\\ipykernel_13932\\2995106456.py:1: DtypeWarning: Columns (3) have mixed types. Specify dtype option on import or set low_memory=False.\n",
      "  imported = pd.read_csv('../data/old_vers/imported.csv')\n",
      "C:\\Users\\Данил\\AppData\\Local\\Temp\\ipykernel_13932\\2995106456.py:2: DtypeWarning: Columns (3) have mixed types. Specify dtype option on import or set low_memory=False.\n",
      "  exported = pd.read_csv('../data/old_vers/exported.csv')\n"
     ]
    }
   ],
   "source": [
    "# imported = pd.read_csv('../data/old_vers/imported.csv')\n",
    "# exported = pd.read_csv('../data/old_vers/exported.csv')"
   ]
  },
  {
   "cell_type": "code",
   "execution_count": null,
   "id": "cecaa463",
   "metadata": {},
   "outputs": [],
   "source": [
    "imported = full_df.loc[full_df['napr'] == 'ИМ']   #Разделение на датафреймы для импорта и экспорта из общего\n",
    "exported = full_df.loc[full_df['napr'] == 'ЭК']  "
   ]
  },
  {
   "cell_type": "code",
   "execution_count": 4,
   "id": "04849353",
   "metadata": {},
   "outputs": [
    {
     "data": {
      "text/plain": [
       "Index(['napr', 'period', 'nastranapr', 'tnved', 'edizm', 'Stoim', 'Netto',\n",
       "       'Kol', 'Region', 'Region_s'],\n",
       "      dtype='object')"
      ]
     },
     "execution_count": 4,
     "metadata": {},
     "output_type": "execute_result"
    }
   ],
   "source": [
    "imported.columns"
   ]
  },
  {
   "cell_type": "code",
   "execution_count": 5,
   "id": "bd24bda9",
   "metadata": {},
   "outputs": [],
   "source": [
    "imported = imported[['period', 'nastranapr', 'tnved', 'Stoim', 'Netto']]    #Оставляем только нужные колонки\n",
    "exported = exported[['period', 'nastranapr', 'tnved', 'Stoim', 'Netto']]"
   ]
  },
  {
   "cell_type": "code",
   "execution_count": 12,
   "id": "8e6ff5fe",
   "metadata": {},
   "outputs": [
    {
     "data": {
      "text/plain": [
       "(period        datetime64[ns]\n",
       " nastranapr            object\n",
       " tnved                 object\n",
       " Stoim                float64\n",
       " Netto                float64\n",
       " dtype: object,\n",
       " period        datetime64[ns]\n",
       " nastranapr            object\n",
       " tnved                 object\n",
       " Stoim                float64\n",
       " Netto                float64\n",
       " dtype: object)"
      ]
     },
     "execution_count": 12,
     "metadata": {},
     "output_type": "execute_result"
    }
   ],
   "source": [
    "imported.dtypes, exported.dtypes"
   ]
  },
  {
   "cell_type": "code",
   "execution_count": 8,
   "id": "ca5093c2",
   "metadata": {},
   "outputs": [],
   "source": [
    "def del_tochka_stoim(row):     #Приводим к типу float поля Stoim Netto\n",
    "    return float(row['Stoim'].replace(',', '.'))\n",
    "def del_tochka_netto(row):\n",
    "    return float(row['Netto'].replace(',', '.'))"
   ]
  },
  {
   "cell_type": "code",
   "execution_count": 10,
   "id": "477b3f55",
   "metadata": {
    "scrolled": true
   },
   "outputs": [
    {
     "data": {
      "application/vnd.jupyter.widget-view+json": {
       "model_id": "130b29cdf6df4392b81a5d8c1b3ab9ec",
       "version_major": 2,
       "version_minor": 0
      },
      "text/plain": [
       "VBox(children=(HBox(children=(IntProgress(value=0, description='0.00%', max=730036), Label(value='0 / 730036')…"
      ]
     },
     "metadata": {},
     "output_type": "display_data"
    },
    {
     "data": {
      "application/vnd.jupyter.widget-view+json": {
       "model_id": "a850295e61884a3d84eadb6eb3006b35",
       "version_major": 2,
       "version_minor": 0
      },
      "text/plain": [
       "VBox(children=(HBox(children=(IntProgress(value=0, description='0.00%', max=730036), Label(value='0 / 730036')…"
      ]
     },
     "metadata": {},
     "output_type": "display_data"
    },
    {
     "data": {
      "application/vnd.jupyter.widget-view+json": {
       "model_id": "aa8ec4a7f3a5466599bf1459405505fb",
       "version_major": 2,
       "version_minor": 0
      },
      "text/plain": [
       "VBox(children=(HBox(children=(IntProgress(value=0, description='0.00%', max=498222), Label(value='0 / 498222')…"
      ]
     },
     "metadata": {},
     "output_type": "display_data"
    },
    {
     "data": {
      "application/vnd.jupyter.widget-view+json": {
       "model_id": "4d3df71f456545a2a87771d98d58dea4",
       "version_major": 2,
       "version_minor": 0
      },
      "text/plain": [
       "VBox(children=(HBox(children=(IntProgress(value=0, description='0.00%', max=498222), Label(value='0 / 498222')…"
      ]
     },
     "metadata": {},
     "output_type": "display_data"
    }
   ],
   "source": [
    "imported['Stoim'] = imported.parallel_apply(del_tochka_stoim, axis=1)\n",
    "imported['Netto'] = imported.parallel_apply(del_tochka_netto, axis=1)\n",
    "\n",
    "exported['Stoim'] = exported.parallel_apply(del_tochka_stoim, axis=1)\n",
    "exported['Netto'] = exported.parallel_apply(del_tochka_netto, axis=1)"
   ]
  },
  {
   "cell_type": "code",
   "execution_count": 11,
   "id": "53b87e62",
   "metadata": {},
   "outputs": [],
   "source": [
    "imported['period'] = pd.to_datetime(imported['period'], format='%m/%Y')\n",
    "exported['period'] = pd.to_datetime(exported['period'], format='%m/%Y')"
   ]
  },
  {
   "cell_type": "code",
   "execution_count": 13,
   "id": "ed5f4533",
   "metadata": {},
   "outputs": [],
   "source": [
    "imported['tnved'] = imported['tnved'].astype('str')    #Приводим tnved к string\n",
    "exported['tnved'] = exported['tnved'].astype('str')"
   ]
  },
  {
   "cell_type": "code",
   "execution_count": 16,
   "id": "f11c5888",
   "metadata": {},
   "outputs": [],
   "source": [
    "imported = imported.loc[imported['tnved'] != 'XXXXXXXXXX']    #Удаляем неизвестные tnved\n",
    "exported = exported.loc[exported['tnved'] != 'XXXXXXXXXX']"
   ]
  },
  {
   "cell_type": "code",
   "execution_count": 24,
   "id": "f4428800",
   "metadata": {},
   "outputs": [],
   "source": [
    "imported.sort_values('tnved', inplace=True)\n",
    "exported.sort_values('tnved', inplace=True)"
   ]
  },
  {
   "cell_type": "code",
   "execution_count": 107,
   "id": "4a448db1",
   "metadata": {},
   "outputs": [],
   "source": [
    "gr_imp = imported.groupby(['tnved', 'period']).sum()\n",
    "gr_exp = exported.groupby(['tnved', 'period']).sum()"
   ]
  },
  {
   "cell_type": "code",
   "execution_count": 108,
   "id": "a2e17dac",
   "metadata": {},
   "outputs": [],
   "source": [
    "gr_imp.reset_index(inplace=True)\n",
    "gr_exp.reset_index(inplace=True)"
   ]
  },
  {
   "cell_type": "code",
   "execution_count": 109,
   "id": "a97dda0e",
   "metadata": {},
   "outputs": [],
   "source": [
    "gr_imp['S/N'] = gr_imp['Stoim'] / gr_imp['Netto']    #Новый столбец для удельной стоимости за 1 кг = Цена\n",
    "gr_exp['S/N'] = gr_exp['Stoim'] / gr_exp['Netto']"
   ]
  },
  {
   "cell_type": "code",
   "execution_count": 110,
   "id": "5d89637a",
   "metadata": {},
   "outputs": [],
   "source": [
    "def spis(data):\n",
    "    k = 0\n",
    "    p = []\n",
    "    t = 0\n",
    "    for i, j in enumerate(data['tnved']):\n",
    "        if k != j:\n",
    "            k = j\n",
    "            t = i\n",
    "            p.append(t)\n",
    "    return p  "
   ]
  },
  {
   "cell_type": "code",
   "execution_count": 111,
   "id": "52e63694",
   "metadata": {},
   "outputs": [],
   "source": [
    "spis_imp = spis(gr_imp)\n",
    "spis_exp = spis(gr_exp)"
   ]
  },
  {
   "cell_type": "code",
   "execution_count": 112,
   "id": "226d2603",
   "metadata": {},
   "outputs": [],
   "source": [
    "def razn_in_spisok(lst:list, data):\n",
    "    lst_razn = []\n",
    "    for i in range(len(lst)-1):\n",
    "        lst_razn.append(lst[i+1] - lst[i] - 1)\n",
    "    lst_razn.append(data.index[-1] - lst[-1] - 1)\n",
    "    return lst_razn"
   ]
  },
  {
   "cell_type": "code",
   "execution_count": 113,
   "id": "b5e7a1ea",
   "metadata": {},
   "outputs": [],
   "source": [
    "spisR_imp = razn_in_spisok(spis_imp, gr_imp)\n",
    "spisR_exp = razn_in_spisok(spis_exp, gr_exp)"
   ]
  },
  {
   "cell_type": "markdown",
   "id": "72bed3fe",
   "metadata": {},
   "source": [
    "                       Заполняем новую колонку процентными изменениями относительно прошлых периодов для товара"
   ]
  },
  {
   "cell_type": "code",
   "execution_count": 114,
   "id": "d4630388",
   "metadata": {},
   "outputs": [
    {
     "data": {
      "application/vnd.jupyter.widget-view+json": {
       "model_id": "432e5c1803014a8c973feb1e8db99d1c",
       "version_major": 2,
       "version_minor": 0
      },
      "text/plain": [
       "0it [00:00, ?it/s]"
      ]
     },
     "metadata": {},
     "output_type": "display_data"
    }
   ],
   "source": [
    "k = spis_imp[0]\n",
    "zap_imp = {}\n",
    "for i, j in tqdm(zip(spis_imp[1:], spisR_imp)):\n",
    "    try:\n",
    "        zap_imp[i-1] = gr_imp['S/N'][k:i].pct_change(periods=j)[i-1]\n",
    "    except:\n",
    "        pass\n",
    "    k = i"
   ]
  },
  {
   "cell_type": "code",
   "execution_count": 115,
   "id": "e6528943",
   "metadata": {},
   "outputs": [
    {
     "data": {
      "application/vnd.jupyter.widget-view+json": {
       "model_id": "a88d07756b8d4346b9c6c90315c336fe",
       "version_major": 2,
       "version_minor": 0
      },
      "text/plain": [
       "0it [00:00, ?it/s]"
      ]
     },
     "metadata": {},
     "output_type": "display_data"
    }
   ],
   "source": [
    "k = spis_exp[0]\n",
    "zap_exp = {}\n",
    "for i, j in tqdm(zip(spis_exp[1:], spisR_exp)):\n",
    "    try:\n",
    "        zap_exp[i-1] = gr_exp['S/N'][k:i].pct_change(periods=j)[i-1]\n",
    "    except:\n",
    "        pass\n",
    "    k = i"
   ]
  },
  {
   "cell_type": "code",
   "execution_count": 116,
   "id": "a3d00d43",
   "metadata": {},
   "outputs": [],
   "source": [
    "gr_imp['inc'] = np.nan\n",
    "gr_exp['inc'] = np.nan"
   ]
  },
  {
   "cell_type": "code",
   "execution_count": 117,
   "id": "9427e31a",
   "metadata": {},
   "outputs": [
    {
     "data": {
      "application/vnd.jupyter.widget-view+json": {
       "model_id": "9af901cd495d4f3c956af6f351f9645e",
       "version_major": 2,
       "version_minor": 0
      },
      "text/plain": [
       "0it [00:00, ?it/s]"
      ]
     },
     "metadata": {},
     "output_type": "display_data"
    },
    {
     "name": "stderr",
     "output_type": "stream",
     "text": [
      "C:\\Users\\Данил\\AppData\\Local\\Temp\\ipykernel_13932\\3250029282.py:3: SettingWithCopyWarning: \n",
      "A value is trying to be set on a copy of a slice from a DataFrame\n",
      "\n",
      "See the caveats in the documentation: https://pandas.pydata.org/pandas-docs/stable/user_guide/indexing.html#returning-a-view-versus-a-copy\n",
      "  gr_imp['inc'][index] = zap_imp[index]\n"
     ]
    }
   ],
   "source": [
    "for index, row in tqdm(gr_imp.iterrows()):\n",
    "    if index in zap_imp.keys():\n",
    "        gr_imp['inc'][index] = zap_imp[index]"
   ]
  },
  {
   "cell_type": "code",
   "execution_count": 118,
   "id": "d90eb0dc",
   "metadata": {},
   "outputs": [
    {
     "data": {
      "application/vnd.jupyter.widget-view+json": {
       "model_id": "882ba3f14ccb4a2a92345e6a4040e128",
       "version_major": 2,
       "version_minor": 0
      },
      "text/plain": [
       "0it [00:00, ?it/s]"
      ]
     },
     "metadata": {},
     "output_type": "display_data"
    },
    {
     "name": "stderr",
     "output_type": "stream",
     "text": [
      "C:\\Users\\Данил\\AppData\\Local\\Temp\\ipykernel_13932\\2955583829.py:3: SettingWithCopyWarning: \n",
      "A value is trying to be set on a copy of a slice from a DataFrame\n",
      "\n",
      "See the caveats in the documentation: https://pandas.pydata.org/pandas-docs/stable/user_guide/indexing.html#returning-a-view-versus-a-copy\n",
      "  gr_exp['inc'][index] = zap_exp[index]\n"
     ]
    }
   ],
   "source": [
    "for index, row in tqdm(gr_exp.iterrows()):\n",
    "    if index in zap_exp.keys():\n",
    "        gr_exp['inc'][index] = zap_exp[index]"
   ]
  },
  {
   "cell_type": "code",
   "execution_count": 251,
   "id": "a54f1eb5",
   "metadata": {},
   "outputs": [],
   "source": [
    "sorting_imp = gr_imp.groupby('tnved').mean().sort_values('inc', ascending=False)\n",
    "sorting_imp.reset_index(inplace=True)\n",
    "sorting_imp['First_tnved'] = sorting_imp['tnved'].apply(lambda x: x[:2])"
   ]
  },
  {
   "cell_type": "code",
   "execution_count": 252,
   "id": "782a208a",
   "metadata": {},
   "outputs": [],
   "source": [
    "sorting_exp = gr_exp.groupby('tnved').mean().sort_values('inc', ascending=False)\n",
    "sorting_exp.reset_index(inplace=True)"
   ]
  },
  {
   "cell_type": "code",
   "execution_count": 254,
   "id": "c5aa1eb7",
   "metadata": {},
   "outputs": [],
   "source": [
    "lst = sorting_imp[:100]['First_tnved'].tolist()\n",
    "spisok_rate = []\n",
    "for i in lst:\n",
    "    if i not in spisok_rate:\n",
    "        spisok_rate.append(i)\n"
   ]
  },
  {
   "cell_type": "code",
   "execution_count": 255,
   "id": "cc36a051",
   "metadata": {},
   "outputs": [],
   "source": [
    "sorting_imp.drop('First_tnved', axis=1, inplace=True)\n",
    "sorting_imp['name'] = sorting_imp['tnved'].map(new_df_dict)\n",
    "sorting_exp['name'] = sorting_exp['tnved'].map(new_df_dict)\n",
    "sorting_imp.dropna(inplace=True)\n",
    "sorting_exp.dropna(inplace=True)\n",
    "sorting_imp.reset_index(drop=True, inplace=True)\n",
    "sorting_exp.reset_index(drop=True, inplace=True)"
   ]
  },
  {
   "cell_type": "code",
   "execution_count": 256,
   "id": "1383c3c2",
   "metadata": {},
   "outputs": [],
   "source": [
    "df_imp = sorting_imp.loc[sorting_imp['tnved'].str.match(spisok_rate[0]+'\\w+')]\n",
    "df_imp = df_imp[:5]\n",
    "for i in range(1, len(spisok_rate[:10])+1):\n",
    "    df_imp_s = sorting_imp.loc[sorting_imp['tnved'].str.match(spisok_rate[i]+'\\w+')]\n",
    "    df_imp_s = df_imp_s[:5]\n",
    "    df_imp = pd.concat([df_imp, df_imp_s])"
   ]
  },
  {
   "cell_type": "code",
   "execution_count": 257,
   "id": "4c531bf2",
   "metadata": {
    "scrolled": true
   },
   "outputs": [],
   "source": [
    "df_imp = df_imp[['tnved', 'name']]"
   ]
  },
  {
   "cell_type": "code",
   "execution_count": 258,
   "id": "1b4d155d",
   "metadata": {
    "scrolled": true
   },
   "outputs": [],
   "source": [
    "df_imp.reset_index(inplace=True, drop=True)"
   ]
  },
  {
   "cell_type": "code",
   "execution_count": 259,
   "id": "53a49a84",
   "metadata": {
    "scrolled": true
   },
   "outputs": [],
   "source": [
    "rec_imp = df_imp['tnved'].tolist()"
   ]
  },
  {
   "cell_type": "code",
   "execution_count": 272,
   "id": "3f00d52c",
   "metadata": {},
   "outputs": [
    {
     "data": {
      "application/vnd.jupyter.widget-view+json": {
       "model_id": "c3265d736f904a5f86bfbe2333496133",
       "version_major": 2,
       "version_minor": 0
      },
      "text/plain": [
       "0it [00:00, ?it/s]"
      ]
     },
     "metadata": {},
     "output_type": "display_data"
    }
   ],
   "source": [
    "imp_dct = {}\n",
    "for index, row in tqdm(sorting_imp.iterrows()):\n",
    "    imp_dct[row['tnved']] = row['inc']"
   ]
  },
  {
   "cell_type": "code",
   "execution_count": 274,
   "id": "613e6ad8",
   "metadata": {},
   "outputs": [
    {
     "data": {
      "application/vnd.jupyter.widget-view+json": {
       "model_id": "4807d31f0c98427fb4a03fc2e7ac6903",
       "version_major": 2,
       "version_minor": 0
      },
      "text/plain": [
       "0it [00:00, ?it/s]"
      ]
     },
     "metadata": {},
     "output_type": "display_data"
    }
   ],
   "source": [
    "exp_dct = {}\n",
    "for index, row in tqdm(sorting_exp.iterrows()):\n",
    "    exp_dct[row['tnved']] = row['inc']"
   ]
  },
  {
   "cell_type": "code",
   "execution_count": 286,
   "id": "0cdc1593",
   "metadata": {
    "scrolled": true
   },
   "outputs": [],
   "source": [
    "recs = []\n",
    "for i in rec_imp:\n",
    "    try:\n",
    "        if imp_dct.get(i) > exp_dct.get(i):\n",
    "            recs.append(i)\n",
    "    except:\n",
    "        pass"
   ]
  },
  {
   "cell_type": "code",
   "execution_count": 288,
   "id": "1672b577",
   "metadata": {},
   "outputs": [],
   "source": [
    "recs_df = pd.DataFrame(recs, columns=['tnved'])"
   ]
  },
  {
   "cell_type": "code",
   "execution_count": 290,
   "id": "49f35aa0",
   "metadata": {},
   "outputs": [],
   "source": [
    "recs_df['name'] = recs_df['tnved'].map(new_df_dict)"
   ]
  },
  {
   "cell_type": "code",
   "execution_count": 295,
   "id": "093f4f54",
   "metadata": {
    "scrolled": true
   },
   "outputs": [],
   "source": [
    "recs_df.to_json('../data/for_proj/Recomendations.json')"
   ]
  },
  {
   "cell_type": "code",
   "execution_count": 297,
   "id": "cc29ffa4",
   "metadata": {},
   "outputs": [],
   "source": [
    "sorting_imp = sorting_imp[['tnved', 'inc', 'name', 'S/N']]\n",
    "sorting_exp = sorting_exp[['tnved', 'inc', 'name', 'S/N']]"
   ]
  },
  {
   "cell_type": "code",
   "execution_count": 298,
   "id": "c6896b4e",
   "metadata": {},
   "outputs": [],
   "source": [
    "sorting_imp.to_json('../data/for_proj/Import_sorting.json')\n",
    "sorting_exp.to_json('../data/for_proj/Export_sorting.json')"
   ]
  },
  {
   "cell_type": "code",
   "execution_count": 301,
   "id": "173d3980",
   "metadata": {},
   "outputs": [],
   "source": [
    "gr_imp['name'] = gr_imp['tnved'].map(new_df_dict)\n",
    "gr_exp['name'] = gr_exp['tnved'].map(new_df_dict)"
   ]
  },
  {
   "cell_type": "code",
   "execution_count": 303,
   "id": "ece656b0",
   "metadata": {},
   "outputs": [],
   "source": [
    "gr_imp = gr_imp[['tnved', 'period', 'S/N', 'name']]\n",
    "gr_exp = gr_exp[['tnved', 'period', 'S/N', 'name']]"
   ]
  },
  {
   "cell_type": "code",
   "execution_count": 305,
   "id": "ef374163",
   "metadata": {},
   "outputs": [],
   "source": [
    "gr_imp.to_json('../data/for_proj/ForImportStatPeriods.json')\n",
    "gr_exp.to_json('../data/for_proj/ForExportStatPeriods.json')"
   ]
  },
  {
   "cell_type": "markdown",
   "id": "b3e140b5",
   "metadata": {},
   "source": [
    "                       СОпоставление кодов tnved - их названиям"
   ]
  },
  {
   "cell_type": "code",
   "execution_count": 139,
   "id": "beaacfb5",
   "metadata": {},
   "outputs": [
    {
     "data": {
      "application/vnd.jupyter.widget-view+json": {
       "model_id": "9a92e64a757b491f8a26a9484faacba2",
       "version_major": 2,
       "version_minor": 0
      },
      "text/plain": [
       "0it [00:00, ?it/s]"
      ]
     },
     "metadata": {},
     "output_type": "display_data"
    }
   ],
   "source": [
    "# ex = pd.read_excel('../data/tnved-CIS-02.xls', usecols=['TNVED', 'FULL_TEXT'])\n",
    "# ex.rename(columns={'TNVED':'tnved', 'FULL_TEXT':'name'}, inplace=True)\n",
    "# ex['tnved'] = ex['tnved'].astype('str')\n",
    "\n",
    "# cols = ['tnved', 'name']\n",
    "\n",
    "# l = []\n",
    "# for i,j in tqdm(enumerate(ex['tnved'])):\n",
    "#     if len(j) == 10:\n",
    "#         l.append([ex['tnved'][i], ex['name'][i]])\n",
    "        \n",
    "# new_df = pd.DataFrame(l, columns=cols)\n",
    "\n",
    "# new_df_dict = {}\n",
    "# for ind, znac in new_df.iterrows():\n",
    "#     new_df_dict[znac['tnved']] = znac['name']"
   ]
  }
 ],
 "metadata": {
  "kernelspec": {
   "display_name": "Python 3 (ipykernel)",
   "language": "python",
   "name": "python3"
  },
  "language_info": {
   "codemirror_mode": {
    "name": "ipython",
    "version": 3
   },
   "file_extension": ".py",
   "mimetype": "text/x-python",
   "name": "python",
   "nbconvert_exporter": "python",
   "pygments_lexer": "ipython3",
   "version": "3.9.1"
  }
 },
 "nbformat": 4,
 "nbformat_minor": 5
}
